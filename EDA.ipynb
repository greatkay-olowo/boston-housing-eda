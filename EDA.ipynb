{
  "nbformat": 4,
  "nbformat_minor": 0,
  "metadata": {
    "colab": {
      "name": "EDA.ipynb",
      "private_outputs": true,
      "provenance": [],
      "collapsed_sections": [],
      "authorship_tag": "ABX9TyMzdSNvkeG0FUJo8FHTtfXC",
      "include_colab_link": true
    },
    "kernelspec": {
      "name": "python3",
      "display_name": "Python 3"
    }
  },
  "cells": [
    {
      "cell_type": "markdown",
      "metadata": {
        "id": "view-in-github",
        "colab_type": "text"
      },
      "source": [
        "<a href=\"https://colab.research.google.com/github/greatkay-olowo/boston-housing-eda/blob/main/EDA.ipynb\" target=\"_parent\"><img src=\"https://colab.research.google.com/assets/colab-badge.svg\" alt=\"Open In Colab\"/></a>"
      ]
    },
    {
      "cell_type": "code",
      "metadata": {
        "id": "lA7bfrKFvYx4"
      },
      "source": [
        "import pandas as pd\r\n",
        "import numpy as np\r\n",
        "import seaborn as sns\r\n",
        "import matplotlib.pyplot as plt\r\n"
      ],
      "execution_count": null,
      "outputs": []
    },
    {
      "cell_type": "code",
      "metadata": {
        "id": "hMmKqBFKuNF0"
      },
      "source": [
        "#upload data\r\n",
        "df = pd.read_csv('hou_all.csv')\r\n",
        "\r\n",
        "\"\"\"\r\n",
        "CRIM: Per capita crime rate by town\r\n",
        "ZN: Proportion of residential land zoned for lots over 25,000 sq. ft\r\n",
        "INDUS: Proportion of non-retail business acres per town\r\n",
        "CHAS: Charles River dummy variable (= 1 if tract bounds river; 0 otherwise)\r\n",
        "NOX: Nitric oxide concentration (parts per 10 million)\r\n",
        "RM: Average number of rooms per dwelling\r\n",
        "AGE: Proportion of owner-occupied units built prior to 1940\r\n",
        "DIS: Weighted distances to five Boston employment centers\r\n",
        "RAD: Index of accessibility to radial highways\r\n",
        "TAX: Full-value property tax rate per $10,000\r\n",
        "PTRATIO: Pupil-teacher ratio by town\r\n",
        "B: 1000(Bk — 0.63)², where Bk is the proportion of [people of African American descent] by town\r\n",
        "LSTAT: Percentage of lower status of the population\r\n",
        "MEDV: Median value of owner-occupied homes in $1000s\r\n",
        "\"\"\""
      ],
      "execution_count": null,
      "outputs": []
    },
    {
      "cell_type": "code",
      "metadata": {
        "id": "6YP0Akdytabj"
      },
      "source": [
        "#check the first 10 data rows\r\n",
        "df.head(10)"
      ],
      "execution_count": null,
      "outputs": []
    },
    {
      "cell_type": "code",
      "metadata": {
        "id": "4o3e_NuaHyAf"
      },
      "source": [
        "df.info()"
      ],
      "execution_count": null,
      "outputs": []
    },
    {
      "cell_type": "code",
      "metadata": {
        "id": "G1E3NvEOHYxv"
      },
      "source": [
        "df = df.drop('Unnamed: 14',axis=1)\r\n",
        "df.info()"
      ],
      "execution_count": null,
      "outputs": []
    },
    {
      "cell_type": "code",
      "metadata": {
        "id": "6_Yzni6HvjJU"
      },
      "source": [
        "#check a sample (20 size) of the data set\r\n",
        "# many 0 at zn and chas\r\n",
        "df.sample(20)"
      ],
      "execution_count": null,
      "outputs": []
    },
    {
      "cell_type": "code",
      "metadata": {
        "id": "jgbagMs3IHsa"
      },
      "source": [
        "# replace zn and chas 0 with NaN to be able to calculate % of which is NaN\r\n",
        "df.zn.replace(0,np.nan,inplace = True)\r\n",
        "df.chas.replace(0,np.nan,inplace = True) \r\n",
        "df.info()"
      ],
      "execution_count": null,
      "outputs": []
    },
    {
      "cell_type": "code",
      "metadata": {
        "id": "NxVbjwDg-VnD"
      },
      "source": [
        "# check percentage of cloumns that are null\r\n",
        "df.isnull().sum()/len(df) * 100\r\n",
        "\r\n",
        "# both zn and chas has high ratio of NaN"
      ],
      "execution_count": null,
      "outputs": []
    },
    {
      "cell_type": "code",
      "metadata": {
        "id": "pSgAytxixkAU"
      },
      "source": [
        "# drop zn and chas\r\n",
        "df = df.drop(['zn','chas'],axis=1)\r\n",
        "df.info()"
      ],
      "execution_count": null,
      "outputs": []
    },
    {
      "cell_type": "code",
      "metadata": {
        "id": "J2mGT_dPOrrG"
      },
      "source": [
        "# show the distribution of MEDV\r\n",
        "sns.distplot(df['medv'], bins=30)"
      ],
      "execution_count": null,
      "outputs": []
    },
    {
      "cell_type": "code",
      "metadata": {
        "id": "t6tmORU50mjT"
      },
      "source": [
        "# remove the outlier\r\n",
        "df = df[~(df['medv'] >= 50.0)]\r\n",
        "df.info()"
      ],
      "execution_count": null,
      "outputs": []
    },
    {
      "cell_type": "code",
      "metadata": {
        "id": "exFP9TNr746_"
      },
      "source": [
        "# show the distribution of MEDV after removing 50 which is an outlier\r\n",
        "sns.distplot(df['medv'], bins=30)"
      ],
      "execution_count": null,
      "outputs": []
    },
    {
      "cell_type": "code",
      "metadata": {
        "id": "X0aQyU-kz2tK"
      },
      "source": [
        "  #get a list of outliers\r\n",
        "  for k, v in df.items():\r\n",
        "        q1 = v.quantile(0.25)\r\n",
        "        q3 = v.quantile(0.75)\r\n",
        "        irq = q3 - q1\r\n",
        "        v_col = v[(v <= q1 - 1.5 * irq) | (v >= q3 + 1.5 * irq)]\r\n",
        "        perc = np.shape(v_col)[0] * 100.0 / np.shape(df)[0]\r\n",
        "        print(\"Column %s outliers = %.2f%%\" % (k, perc))"
      ],
      "execution_count": null,
      "outputs": []
    },
    {
      "cell_type": "code",
      "metadata": {
        "id": "1iEtDD4izW_9"
      },
      "source": [
        "#get a graph of outliers\r\n",
        "fig, axs = plt.subplots(ncols=6, nrows=2, figsize=(10, 10))\r\n",
        "index = 0\r\n",
        "axs = axs.flatten()\r\n",
        "for k,v in df.items():\r\n",
        "    sns.boxplot(y=k, data=df, ax=axs[index])\r\n",
        "    index += 1\r\n",
        "plt.tight_layout(pad=0.5, w_pad=5, h_pad=5.0)"
      ],
      "execution_count": null,
      "outputs": []
    },
    {
      "cell_type": "code",
      "metadata": {
        "id": "9NKuYN-J1BcW"
      },
      "source": [
        "plt.figure(figsize=(20, 10))\r\n",
        "sns.heatmap(df.corr().round(2), annot=True)"
      ],
      "execution_count": null,
      "outputs": []
    },
    {
      "cell_type": "code",
      "metadata": {
        "id": "i9Kl0vXP-DGi"
      },
      "source": [
        "sns.pairplot(data=df,\r\n",
        "                  y_vars=['medv'],\r\n",
        "                  x_vars=['indus', 'nox', 'rm', 'age', 'dis','rad','tax', 'ptratio','black','lstat'], hue = 'medv')\r\n",
        "# There are strong correlations between medv and rm with lstat"
      ],
      "execution_count": null,
      "outputs": []
    },
    {
      "cell_type": "code",
      "metadata": {
        "id": "fwRh7abODDUI"
      },
      "source": [
        "# drop other columns not showing strong correlations\r\n",
        "df.drop(['indus', 'nox', 'age', 'dis','rad','tax', 'ptratio','black'], axis=1)"
      ],
      "execution_count": null,
      "outputs": []
    },
    {
      "cell_type": "markdown",
      "metadata": {
        "id": "s0CYsF78A7UL"
      },
      "source": [
        ""
      ]
    },
    {
      "cell_type": "code",
      "metadata": {
        "id": "ZprQ3PdCDibG"
      },
      "source": [
        "# view relationship plot of the new data\r\n",
        "sns.relplot(x = 'rm', y = 'lstat', hue = 'medv', data=df)"
      ],
      "execution_count": null,
      "outputs": []
    }
  ]
}